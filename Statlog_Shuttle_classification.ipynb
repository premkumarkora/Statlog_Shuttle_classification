{
  "nbformat": 4,
  "nbformat_minor": 0,
  "metadata": {
    "colab": {
      "provenance": [],
      "authorship_tag": "ABX9TyO1X6iPlMGTyFbM00/iLAnl",
      "include_colab_link": true
    },
    "kernelspec": {
      "name": "python3",
      "display_name": "Python 3"
    },
    "language_info": {
      "name": "python"
    }
  },
  "cells": [
    {
      "cell_type": "markdown",
      "metadata": {
        "id": "view-in-github",
        "colab_type": "text"
      },
      "source": [
        "<a href=\"https://colab.research.google.com/github/premkumarkora/Statlog_Shuttle_classification/blob/main/Statlog_Shuttle_classification.ipynb\" target=\"_parent\"><img src=\"https://colab.research.google.com/assets/colab-badge.svg\" alt=\"Open In Colab\"/></a>"
      ]
    },
    {
      "cell_type": "code",
      "source": [
        "import pandas as pd\n",
        "import numpy as np\n",
        "import csv"
      ],
      "metadata": {
        "id": "zCwtslwwtFHl"
      },
      "execution_count": 48,
      "outputs": []
    },
    {
      "cell_type": "code",
      "execution_count": 49,
      "metadata": {
        "colab": {
          "base_uri": "https://localhost:8080/",
          "height": 161
        },
        "id": "2pqzBwrOsQa9",
        "outputId": "f1405598-4bf2-45a7-fddd-89e22ab93d6f"
      },
      "outputs": [
        {
          "output_type": "stream",
          "name": "stdout",
          "text": [
            "Drive already mounted at /content/drive; to attempt to forcibly remount, call drive.mount(\"/content/drive\", force_remount=True).\n"
          ]
        },
        {
          "output_type": "execute_result",
          "data": {
            "text/plain": [
              "   time  feature1  feature2  feature3  feature4  feature5  feature6  feature7  \\\n",
              "0    50        21        77         0        28         0        27        48   \n",
              "1    55         0        92         0         0        26        36        92   \n",
              "2    53         0        82         0        52        -5        29        30   \n",
              "\n",
              "   feature8  target  \n",
              "0        22       2  \n",
              "1        56       4  \n",
              "2         2       1  "
            ],
            "text/html": [
              "\n",
              "  <div id=\"df-9be45bdd-c36b-4afe-aaa0-f63d1f4147c2\">\n",
              "    <div class=\"colab-df-container\">\n",
              "      <div>\n",
              "<style scoped>\n",
              "    .dataframe tbody tr th:only-of-type {\n",
              "        vertical-align: middle;\n",
              "    }\n",
              "\n",
              "    .dataframe tbody tr th {\n",
              "        vertical-align: top;\n",
              "    }\n",
              "\n",
              "    .dataframe thead th {\n",
              "        text-align: right;\n",
              "    }\n",
              "</style>\n",
              "<table border=\"1\" class=\"dataframe\">\n",
              "  <thead>\n",
              "    <tr style=\"text-align: right;\">\n",
              "      <th></th>\n",
              "      <th>time</th>\n",
              "      <th>feature1</th>\n",
              "      <th>feature2</th>\n",
              "      <th>feature3</th>\n",
              "      <th>feature4</th>\n",
              "      <th>feature5</th>\n",
              "      <th>feature6</th>\n",
              "      <th>feature7</th>\n",
              "      <th>feature8</th>\n",
              "      <th>target</th>\n",
              "    </tr>\n",
              "  </thead>\n",
              "  <tbody>\n",
              "    <tr>\n",
              "      <th>0</th>\n",
              "      <td>50</td>\n",
              "      <td>21</td>\n",
              "      <td>77</td>\n",
              "      <td>0</td>\n",
              "      <td>28</td>\n",
              "      <td>0</td>\n",
              "      <td>27</td>\n",
              "      <td>48</td>\n",
              "      <td>22</td>\n",
              "      <td>2</td>\n",
              "    </tr>\n",
              "    <tr>\n",
              "      <th>1</th>\n",
              "      <td>55</td>\n",
              "      <td>0</td>\n",
              "      <td>92</td>\n",
              "      <td>0</td>\n",
              "      <td>0</td>\n",
              "      <td>26</td>\n",
              "      <td>36</td>\n",
              "      <td>92</td>\n",
              "      <td>56</td>\n",
              "      <td>4</td>\n",
              "    </tr>\n",
              "    <tr>\n",
              "      <th>2</th>\n",
              "      <td>53</td>\n",
              "      <td>0</td>\n",
              "      <td>82</td>\n",
              "      <td>0</td>\n",
              "      <td>52</td>\n",
              "      <td>-5</td>\n",
              "      <td>29</td>\n",
              "      <td>30</td>\n",
              "      <td>2</td>\n",
              "      <td>1</td>\n",
              "    </tr>\n",
              "  </tbody>\n",
              "</table>\n",
              "</div>\n",
              "      <button class=\"colab-df-convert\" onclick=\"convertToInteractive('df-9be45bdd-c36b-4afe-aaa0-f63d1f4147c2')\"\n",
              "              title=\"Convert this dataframe to an interactive table.\"\n",
              "              style=\"display:none;\">\n",
              "        \n",
              "  <svg xmlns=\"http://www.w3.org/2000/svg\" height=\"24px\"viewBox=\"0 0 24 24\"\n",
              "       width=\"24px\">\n",
              "    <path d=\"M0 0h24v24H0V0z\" fill=\"none\"/>\n",
              "    <path d=\"M18.56 5.44l.94 2.06.94-2.06 2.06-.94-2.06-.94-.94-2.06-.94 2.06-2.06.94zm-11 1L8.5 8.5l.94-2.06 2.06-.94-2.06-.94L8.5 2.5l-.94 2.06-2.06.94zm10 10l.94 2.06.94-2.06 2.06-.94-2.06-.94-.94-2.06-.94 2.06-2.06.94z\"/><path d=\"M17.41 7.96l-1.37-1.37c-.4-.4-.92-.59-1.43-.59-.52 0-1.04.2-1.43.59L10.3 9.45l-7.72 7.72c-.78.78-.78 2.05 0 2.83L4 21.41c.39.39.9.59 1.41.59.51 0 1.02-.2 1.41-.59l7.78-7.78 2.81-2.81c.8-.78.8-2.07 0-2.86zM5.41 20L4 18.59l7.72-7.72 1.47 1.35L5.41 20z\"/>\n",
              "  </svg>\n",
              "      </button>\n",
              "      \n",
              "  <style>\n",
              "    .colab-df-container {\n",
              "      display:flex;\n",
              "      flex-wrap:wrap;\n",
              "      gap: 12px;\n",
              "    }\n",
              "\n",
              "    .colab-df-convert {\n",
              "      background-color: #E8F0FE;\n",
              "      border: none;\n",
              "      border-radius: 50%;\n",
              "      cursor: pointer;\n",
              "      display: none;\n",
              "      fill: #1967D2;\n",
              "      height: 32px;\n",
              "      padding: 0 0 0 0;\n",
              "      width: 32px;\n",
              "    }\n",
              "\n",
              "    .colab-df-convert:hover {\n",
              "      background-color: #E2EBFA;\n",
              "      box-shadow: 0px 1px 2px rgba(60, 64, 67, 0.3), 0px 1px 3px 1px rgba(60, 64, 67, 0.15);\n",
              "      fill: #174EA6;\n",
              "    }\n",
              "\n",
              "    [theme=dark] .colab-df-convert {\n",
              "      background-color: #3B4455;\n",
              "      fill: #D2E3FC;\n",
              "    }\n",
              "\n",
              "    [theme=dark] .colab-df-convert:hover {\n",
              "      background-color: #434B5C;\n",
              "      box-shadow: 0px 1px 3px 1px rgba(0, 0, 0, 0.15);\n",
              "      filter: drop-shadow(0px 1px 2px rgba(0, 0, 0, 0.3));\n",
              "      fill: #FFFFFF;\n",
              "    }\n",
              "  </style>\n",
              "\n",
              "      <script>\n",
              "        const buttonEl =\n",
              "          document.querySelector('#df-9be45bdd-c36b-4afe-aaa0-f63d1f4147c2 button.colab-df-convert');\n",
              "        buttonEl.style.display =\n",
              "          google.colab.kernel.accessAllowed ? 'block' : 'none';\n",
              "\n",
              "        async function convertToInteractive(key) {\n",
              "          const element = document.querySelector('#df-9be45bdd-c36b-4afe-aaa0-f63d1f4147c2');\n",
              "          const dataTable =\n",
              "            await google.colab.kernel.invokeFunction('convertToInteractive',\n",
              "                                                     [key], {});\n",
              "          if (!dataTable) return;\n",
              "\n",
              "          const docLinkHtml = 'Like what you see? Visit the ' +\n",
              "            '<a target=\"_blank\" href=https://colab.research.google.com/notebooks/data_table.ipynb>data table notebook</a>'\n",
              "            + ' to learn more about interactive tables.';\n",
              "          element.innerHTML = '';\n",
              "          dataTable['output_type'] = 'display_data';\n",
              "          await google.colab.output.renderOutput(dataTable, element);\n",
              "          const docLink = document.createElement('div');\n",
              "          docLink.innerHTML = docLinkHtml;\n",
              "          element.appendChild(docLink);\n",
              "        }\n",
              "      </script>\n",
              "    </div>\n",
              "  </div>\n",
              "  "
            ]
          },
          "metadata": {},
          "execution_count": 49
        }
      ],
      "source": [
        "from google.colab import drive\n",
        "drive.mount('/content/drive')\n",
        "location = \"/content/drive/My Drive/Colab Notebooks/data/shuttledata.csv\"\n",
        "df = pd.read_csv(location, header=None, \n",
        " names=['time', 'feature1', 'feature2', 'feature3', 'feature4', 'feature5', 'feature6', 'feature7', 'feature8', 'target'])\n",
        "df.head(3)"
      ]
    },
    {
      "cell_type": "code",
      "source": [
        "df.shape"
      ],
      "metadata": {
        "colab": {
          "base_uri": "https://localhost:8080/"
        },
        "id": "UmcI7rE15iBE",
        "outputId": "18e8f0a7-1af6-41d0-c5ae-7b7f92d78ac9"
      },
      "execution_count": 50,
      "outputs": [
        {
          "output_type": "execute_result",
          "data": {
            "text/plain": [
              "(43500, 10)"
            ]
          },
          "metadata": {},
          "execution_count": 50
        }
      ]
    },
    {
      "cell_type": "code",
      "source": [
        "df.info() # All Data seems to be not null and seems to be int64 type"
      ],
      "metadata": {
        "colab": {
          "base_uri": "https://localhost:8080/"
        },
        "id": "kyK7f7g-5tWr",
        "outputId": "fc18da01-73ae-44d2-a631-5d3691925343"
      },
      "execution_count": 51,
      "outputs": [
        {
          "output_type": "stream",
          "name": "stdout",
          "text": [
            "<class 'pandas.core.frame.DataFrame'>\n",
            "RangeIndex: 43500 entries, 0 to 43499\n",
            "Data columns (total 10 columns):\n",
            " #   Column    Non-Null Count  Dtype\n",
            "---  ------    --------------  -----\n",
            " 0   time      43500 non-null  int64\n",
            " 1   feature1  43500 non-null  int64\n",
            " 2   feature2  43500 non-null  int64\n",
            " 3   feature3  43500 non-null  int64\n",
            " 4   feature4  43500 non-null  int64\n",
            " 5   feature5  43500 non-null  int64\n",
            " 6   feature6  43500 non-null  int64\n",
            " 7   feature7  43500 non-null  int64\n",
            " 8   feature8  43500 non-null  int64\n",
            " 9   target    43500 non-null  int64\n",
            "dtypes: int64(10)\n",
            "memory usage: 3.3 MB\n"
          ]
        }
      ]
    },
    {
      "cell_type": "code",
      "source": [
        "linear_vars = df.select_dtypes(include=[np.number]).columns # This will list columns that are numeric"
      ],
      "metadata": {
        "id": "mYkZ0Cee6BU_"
      },
      "execution_count": 52,
      "outputs": []
    },
    {
      "cell_type": "code",
      "source": [
        "def findupperloweroutliers(linear_vars):\n",
        "  for i in linear_vars:\n",
        "    iqr = df[i].quantile(0.75)- df[i].quantile(0.25)\n",
        "    upper_threshold  = df[i].quantile(0.75)+(1.5*iqr)\n",
        "    quantile75th     = df[i].quantile(0.75)\n",
        "    lower_threshold  = df[i].quantile(0.25)-(1.5*iqr)\n",
        "    quantile25th     = df[i].quantile(0.25)\n",
        "    display(i + \": \" + \"Upper Threshold : \" + str(upper_threshold) + \" Top 5 values --> \" + str(list(df[linear_vars].sort_values(by=i,ascending=False)[i].head())))\n",
        "    # print(i,':',  \"25th Quantile :\", quantile25th ,\" || Lower Threshold :\",lower_threshold, \" || 75th Quantile :\", quantile75th ,\"|| Upper Threshold :\", upper_threshold)\n",
        "    display(i + \": \" + \"Lower Threshold : \" + str(lower_threshold) + \" Bottom 5 values --> \" + str(list(df[linear_vars].sort_values(by=i,ascending=True)[i].head())))\n"
      ],
      "metadata": {
        "id": "WktJbRoE6Oxk"
      },
      "execution_count": 53,
      "outputs": []
    },
    {
      "cell_type": "code",
      "source": [
        "findupperloweroutliers(linear_vars)"
      ],
      "metadata": {
        "colab": {
          "base_uri": "https://localhost:8080/",
          "height": 391
        },
        "id": "ujUBhw4r6WWk",
        "outputId": "2a21ab47-35d6-4d1a-98e3-cc7e18775c67"
      },
      "execution_count": 54,
      "outputs": [
        {
          "output_type": "display_data",
          "data": {
            "text/plain": [
              "'time: Upper Threshold : 80.5 Top 5 values --> [126, 123, 123, 123, 123]'"
            ],
            "application/vnd.google.colaboratory.intrinsic+json": {
              "type": "string"
            }
          },
          "metadata": {}
        },
        {
          "output_type": "display_data",
          "data": {
            "text/plain": [
              "'time: Lower Threshold : 12.5 Bottom 5 values --> [27, 27, 36, 36, 36]'"
            ],
            "application/vnd.google.colaboratory.intrinsic+json": {
              "type": "string"
            }
          },
          "metadata": {}
        },
        {
          "output_type": "display_data",
          "data": {
            "text/plain": [
              "'feature1: Upper Threshold : 0.0 Top 5 values --> [5075, 4903, 4692, 4254, 3447]'"
            ],
            "application/vnd.google.colaboratory.intrinsic+json": {
              "type": "string"
            }
          },
          "metadata": {}
        },
        {
          "output_type": "display_data",
          "data": {
            "text/plain": [
              "'feature1: Lower Threshold : 0.0 Bottom 5 values --> [-4821, -4624, -4475, -4184, -4048]'"
            ],
            "application/vnd.google.colaboratory.intrinsic+json": {
              "type": "string"
            }
          },
          "metadata": {}
        },
        {
          "output_type": "display_data",
          "data": {
            "text/plain": [
              "'feature2: Upper Threshold : 104.0 Top 5 values --> [149, 141, 113, 113, 113]'"
            ],
            "application/vnd.google.colaboratory.intrinsic+json": {
              "type": "string"
            }
          },
          "metadata": {}
        },
        {
          "output_type": "display_data",
          "data": {
            "text/plain": [
              "'feature2: Lower Threshold : 64.0 Bottom 5 values --> [21, 29, 29, 44, 64]'"
            ],
            "application/vnd.google.colaboratory.intrinsic+json": {
              "type": "string"
            }
          },
          "metadata": {}
        },
        {
          "output_type": "display_data",
          "data": {
            "text/plain": [
              "'feature3: Upper Threshold : 0.0 Top 5 values --> [3830, 3743, 2674, 2565, 2006]'"
            ],
            "application/vnd.google.colaboratory.intrinsic+json": {
              "type": "string"
            }
          },
          "metadata": {}
        },
        {
          "output_type": "display_data",
          "data": {
            "text/plain": [
              "'feature3: Lower Threshold : 0.0 Bottom 5 values --> [-3939, -2044, -1108, -674, -587]'"
            ],
            "application/vnd.google.colaboratory.intrinsic+json": {
              "type": "string"
            }
          },
          "metadata": {}
        },
        {
          "output_type": "display_data",
          "data": {
            "text/plain": [
              "'feature4: Upper Threshold : 76.0 Top 5 values --> [436, 436, 336, 336, 72]'"
            ],
            "application/vnd.google.colaboratory.intrinsic+json": {
              "type": "string"
            }
          },
          "metadata": {}
        },
        {
          "output_type": "display_data",
          "data": {
            "text/plain": [
              "'feature4: Lower Threshold : -4.0 Bottom 5 values --> [-188, -188, -188, -188, -160]'"
            ],
            "application/vnd.google.colaboratory.intrinsic+json": {
              "type": "string"
            }
          },
          "metadata": {}
        },
        {
          "output_type": "display_data",
          "data": {
            "text/plain": [
              "'feature5: Upper Threshold : 20.0 Top 5 values --> [13148, 11749, 9931, 7973, 6339]'"
            ],
            "application/vnd.google.colaboratory.intrinsic+json": {
              "type": "string"
            }
          },
          "metadata": {}
        },
        {
          "output_type": "display_data",
          "data": {
            "text/plain": [
              "'feature5: Lower Threshold : -20.0 Bottom 5 values --> [-13839, -12809, -11042, -10453, -8392]'"
            ],
            "application/vnd.google.colaboratory.intrinsic+json": {
              "type": "string"
            }
          },
          "metadata": {}
        },
        {
          "output_type": "display_data",
          "data": {
            "text/plain": [
              "'feature6: Upper Threshold : 58.5 Top 5 values --> [105, 104, 75, 75, 73]'"
            ],
            "application/vnd.google.colaboratory.intrinsic+json": {
              "type": "string"
            }
          },
          "metadata": {}
        },
        {
          "output_type": "display_data",
          "data": {
            "text/plain": [
              "'feature6: Lower Threshold : 14.5 Bottom 5 values --> [-48, -43, -43, -27, -26]'"
            ],
            "application/vnd.google.colaboratory.intrinsic+json": {
              "type": "string"
            }
          },
          "metadata": {}
        },
        {
          "output_type": "display_data",
          "data": {
            "text/plain": [
              "'feature7: Upper Threshold : 94.5 Top 5 values --> [270, 269, 265, 265, 240]'"
            ],
            "application/vnd.google.colaboratory.intrinsic+json": {
              "type": "string"
            }
          },
          "metadata": {}
        },
        {
          "output_type": "display_data",
          "data": {
            "text/plain": [
              "'feature7: Lower Threshold : 2.5 Bottom 5 values --> [-353, -353, -258, -258, 16]'"
            ],
            "application/vnd.google.colaboratory.intrinsic+json": {
              "type": "string"
            }
          },
          "metadata": {}
        },
        {
          "output_type": "display_data",
          "data": {
            "text/plain": [
              "'feature8: Upper Threshold : 35.0 Top 5 values --> [266, 244, 242, 226, 196]'"
            ],
            "application/vnd.google.colaboratory.intrinsic+json": {
              "type": "string"
            }
          },
          "metadata": {}
        },
        {
          "output_type": "display_data",
          "data": {
            "text/plain": [
              "'feature8: Lower Threshold : -21.0 Bottom 5 values --> [-356, -356, -298, -298, -14]'"
            ],
            "application/vnd.google.colaboratory.intrinsic+json": {
              "type": "string"
            }
          },
          "metadata": {}
        },
        {
          "output_type": "display_data",
          "data": {
            "text/plain": [
              "'target: Upper Threshold : 1.0 Top 5 values --> [7, 7, 7, 7, 7]'"
            ],
            "application/vnd.google.colaboratory.intrinsic+json": {
              "type": "string"
            }
          },
          "metadata": {}
        },
        {
          "output_type": "display_data",
          "data": {
            "text/plain": [
              "'target: Lower Threshold : 1.0 Bottom 5 values --> [1, 1, 1, 1, 1]'"
            ],
            "application/vnd.google.colaboratory.intrinsic+json": {
              "type": "string"
            }
          },
          "metadata": {}
        }
      ]
    },
    {
      "cell_type": "code",
      "source": [],
      "metadata": {
        "id": "ZEtJqYBqfSYo"
      },
      "execution_count": 54,
      "outputs": []
    },
    {
      "cell_type": "code",
      "source": [
        "X = df.drop(['target'], axis=1)\n",
        "y = df[['target']]"
      ],
      "metadata": {
        "id": "h2EeWqMa6_KZ"
      },
      "execution_count": 55,
      "outputs": []
    },
    {
      "cell_type": "code",
      "source": [
        "!pip install lazypredict"
      ],
      "metadata": {
        "colab": {
          "base_uri": "https://localhost:8080/"
        },
        "id": "1uNgQ1mt7T1v",
        "outputId": "eacb3ed7-ddc4-45df-a801-b1bddd8eabcf"
      },
      "execution_count": 56,
      "outputs": [
        {
          "output_type": "stream",
          "name": "stdout",
          "text": [
            "Looking in indexes: https://pypi.org/simple, https://us-python.pkg.dev/colab-wheels/public/simple/\n",
            "Requirement already satisfied: lazypredict in /usr/local/lib/python3.8/dist-packages (0.2.12)\n",
            "Requirement already satisfied: xgboost in /usr/local/lib/python3.8/dist-packages (from lazypredict) (0.90)\n",
            "Requirement already satisfied: tqdm in /usr/local/lib/python3.8/dist-packages (from lazypredict) (4.64.1)\n",
            "Requirement already satisfied: lightgbm in /usr/local/lib/python3.8/dist-packages (from lazypredict) (2.2.3)\n",
            "Requirement already satisfied: pandas in /usr/local/lib/python3.8/dist-packages (from lazypredict) (1.3.5)\n",
            "Requirement already satisfied: click in /usr/local/lib/python3.8/dist-packages (from lazypredict) (7.1.2)\n",
            "Requirement already satisfied: scikit-learn in /usr/local/lib/python3.8/dist-packages (from lazypredict) (1.0.2)\n",
            "Requirement already satisfied: joblib in /usr/local/lib/python3.8/dist-packages (from lazypredict) (1.2.0)\n",
            "Requirement already satisfied: scipy in /usr/local/lib/python3.8/dist-packages (from lightgbm->lazypredict) (1.7.3)\n",
            "Requirement already satisfied: numpy in /usr/local/lib/python3.8/dist-packages (from lightgbm->lazypredict) (1.21.6)\n",
            "Requirement already satisfied: pytz>=2017.3 in /usr/local/lib/python3.8/dist-packages (from pandas->lazypredict) (2022.6)\n",
            "Requirement already satisfied: python-dateutil>=2.7.3 in /usr/local/lib/python3.8/dist-packages (from pandas->lazypredict) (2.8.2)\n",
            "Requirement already satisfied: six>=1.5 in /usr/local/lib/python3.8/dist-packages (from python-dateutil>=2.7.3->pandas->lazypredict) (1.15.0)\n",
            "Requirement already satisfied: threadpoolctl>=2.0.0 in /usr/local/lib/python3.8/dist-packages (from scikit-learn->lazypredict) (3.1.0)\n"
          ]
        }
      ]
    },
    {
      "cell_type": "code",
      "source": [
        "def quicklazy_predictor(X,y,type):\n",
        "  from sklearn.model_selection import train_test_split\n",
        "  X_train, X_test, y_train, y_test = train_test_split(X, y, test_size=0.3)\n",
        "  import lazypredict \n",
        "  if (type == 'classifier'):\n",
        "    from lazypredict.Supervised import LazyClassifier\n",
        "    clf = LazyClassifier(verbose=0,ignore_warnings=True)\n",
        "    models, predictions = clf.fit(X_train, X_test, y_train, y_test)\n",
        "    print(models)\n",
        "    #models\n",
        "  elif (type == 'regressor'):\n",
        "    from lazypredict.Supervised import LazyRegressor\n",
        "    clf = LazyRegressor(verbose=0,ignore_warnings=True)  \n",
        "    models, predictions = clf.fit(X_train, X_test, y_train, y_test)\n",
        "    print(models)\n",
        "  else:\n",
        "    print(\"Please check your Type: It shoul;d be either -- regressor or -- classifier \")\n",
        "#quicklazy_predictor(X,y,'classifier')"
      ],
      "metadata": {
        "id": "nxWpec_r7G3d"
      },
      "execution_count": 57,
      "outputs": []
    },
    {
      "cell_type": "code",
      "source": [
        "df.shape"
      ],
      "metadata": {
        "colab": {
          "base_uri": "https://localhost:8080/"
        },
        "id": "VQ7ZHiztf91A",
        "outputId": "23095375-be58-43e0-d6cb-b4c2473694ca"
      },
      "execution_count": 58,
      "outputs": [
        {
          "output_type": "execute_result",
          "data": {
            "text/plain": [
              "(43500, 10)"
            ]
          },
          "metadata": {},
          "execution_count": 58
        }
      ]
    },
    {
      "cell_type": "code",
      "source": [
        "def removeoutliers(df, listvars, z):\n",
        "    from scipy import stats\n",
        "    for var in listvars:\n",
        "        df1 = df[np.abs(stats.zscore(df[var])) < z]\n",
        "    return df1\n",
        "#df = removeoutliers(df, linear_vars,3)"
      ],
      "metadata": {
        "id": "juhN24OBczzI"
      },
      "execution_count": 59,
      "outputs": []
    },
    {
      "cell_type": "code",
      "source": [
        "df.shape"
      ],
      "metadata": {
        "colab": {
          "base_uri": "https://localhost:8080/"
        },
        "id": "hAWLAs5gfYhG",
        "outputId": "5ce7ebd5-5595-46b7-c5d5-76a8cba8dbfc"
      },
      "execution_count": 60,
      "outputs": [
        {
          "output_type": "execute_result",
          "data": {
            "text/plain": [
              "(43500, 10)"
            ]
          },
          "metadata": {},
          "execution_count": 60
        }
      ]
    },
    {
      "cell_type": "code",
      "source": [
        "findupperloweroutliers(linear_vars)"
      ],
      "metadata": {
        "colab": {
          "base_uri": "https://localhost:8080/",
          "height": 391
        },
        "id": "n-tE2pBQfflp",
        "outputId": "ee19687d-b551-4e7c-c37d-e85f68e3c329"
      },
      "execution_count": 61,
      "outputs": [
        {
          "output_type": "display_data",
          "data": {
            "text/plain": [
              "'time: Upper Threshold : 80.5 Top 5 values --> [126, 123, 123, 123, 123]'"
            ],
            "application/vnd.google.colaboratory.intrinsic+json": {
              "type": "string"
            }
          },
          "metadata": {}
        },
        {
          "output_type": "display_data",
          "data": {
            "text/plain": [
              "'time: Lower Threshold : 12.5 Bottom 5 values --> [27, 27, 36, 36, 36]'"
            ],
            "application/vnd.google.colaboratory.intrinsic+json": {
              "type": "string"
            }
          },
          "metadata": {}
        },
        {
          "output_type": "display_data",
          "data": {
            "text/plain": [
              "'feature1: Upper Threshold : 0.0 Top 5 values --> [5075, 4903, 4692, 4254, 3447]'"
            ],
            "application/vnd.google.colaboratory.intrinsic+json": {
              "type": "string"
            }
          },
          "metadata": {}
        },
        {
          "output_type": "display_data",
          "data": {
            "text/plain": [
              "'feature1: Lower Threshold : 0.0 Bottom 5 values --> [-4821, -4624, -4475, -4184, -4048]'"
            ],
            "application/vnd.google.colaboratory.intrinsic+json": {
              "type": "string"
            }
          },
          "metadata": {}
        },
        {
          "output_type": "display_data",
          "data": {
            "text/plain": [
              "'feature2: Upper Threshold : 104.0 Top 5 values --> [149, 141, 113, 113, 113]'"
            ],
            "application/vnd.google.colaboratory.intrinsic+json": {
              "type": "string"
            }
          },
          "metadata": {}
        },
        {
          "output_type": "display_data",
          "data": {
            "text/plain": [
              "'feature2: Lower Threshold : 64.0 Bottom 5 values --> [21, 29, 29, 44, 64]'"
            ],
            "application/vnd.google.colaboratory.intrinsic+json": {
              "type": "string"
            }
          },
          "metadata": {}
        },
        {
          "output_type": "display_data",
          "data": {
            "text/plain": [
              "'feature3: Upper Threshold : 0.0 Top 5 values --> [3830, 3743, 2674, 2565, 2006]'"
            ],
            "application/vnd.google.colaboratory.intrinsic+json": {
              "type": "string"
            }
          },
          "metadata": {}
        },
        {
          "output_type": "display_data",
          "data": {
            "text/plain": [
              "'feature3: Lower Threshold : 0.0 Bottom 5 values --> [-3939, -2044, -1108, -674, -587]'"
            ],
            "application/vnd.google.colaboratory.intrinsic+json": {
              "type": "string"
            }
          },
          "metadata": {}
        },
        {
          "output_type": "display_data",
          "data": {
            "text/plain": [
              "'feature4: Upper Threshold : 76.0 Top 5 values --> [436, 436, 336, 336, 72]'"
            ],
            "application/vnd.google.colaboratory.intrinsic+json": {
              "type": "string"
            }
          },
          "metadata": {}
        },
        {
          "output_type": "display_data",
          "data": {
            "text/plain": [
              "'feature4: Lower Threshold : -4.0 Bottom 5 values --> [-188, -188, -188, -188, -160]'"
            ],
            "application/vnd.google.colaboratory.intrinsic+json": {
              "type": "string"
            }
          },
          "metadata": {}
        },
        {
          "output_type": "display_data",
          "data": {
            "text/plain": [
              "'feature5: Upper Threshold : 20.0 Top 5 values --> [13148, 11749, 9931, 7973, 6339]'"
            ],
            "application/vnd.google.colaboratory.intrinsic+json": {
              "type": "string"
            }
          },
          "metadata": {}
        },
        {
          "output_type": "display_data",
          "data": {
            "text/plain": [
              "'feature5: Lower Threshold : -20.0 Bottom 5 values --> [-13839, -12809, -11042, -10453, -8392]'"
            ],
            "application/vnd.google.colaboratory.intrinsic+json": {
              "type": "string"
            }
          },
          "metadata": {}
        },
        {
          "output_type": "display_data",
          "data": {
            "text/plain": [
              "'feature6: Upper Threshold : 58.5 Top 5 values --> [105, 104, 75, 75, 73]'"
            ],
            "application/vnd.google.colaboratory.intrinsic+json": {
              "type": "string"
            }
          },
          "metadata": {}
        },
        {
          "output_type": "display_data",
          "data": {
            "text/plain": [
              "'feature6: Lower Threshold : 14.5 Bottom 5 values --> [-48, -43, -43, -27, -26]'"
            ],
            "application/vnd.google.colaboratory.intrinsic+json": {
              "type": "string"
            }
          },
          "metadata": {}
        },
        {
          "output_type": "display_data",
          "data": {
            "text/plain": [
              "'feature7: Upper Threshold : 94.5 Top 5 values --> [270, 269, 265, 265, 240]'"
            ],
            "application/vnd.google.colaboratory.intrinsic+json": {
              "type": "string"
            }
          },
          "metadata": {}
        },
        {
          "output_type": "display_data",
          "data": {
            "text/plain": [
              "'feature7: Lower Threshold : 2.5 Bottom 5 values --> [-353, -353, -258, -258, 16]'"
            ],
            "application/vnd.google.colaboratory.intrinsic+json": {
              "type": "string"
            }
          },
          "metadata": {}
        },
        {
          "output_type": "display_data",
          "data": {
            "text/plain": [
              "'feature8: Upper Threshold : 35.0 Top 5 values --> [266, 244, 242, 226, 196]'"
            ],
            "application/vnd.google.colaboratory.intrinsic+json": {
              "type": "string"
            }
          },
          "metadata": {}
        },
        {
          "output_type": "display_data",
          "data": {
            "text/plain": [
              "'feature8: Lower Threshold : -21.0 Bottom 5 values --> [-356, -356, -298, -298, -14]'"
            ],
            "application/vnd.google.colaboratory.intrinsic+json": {
              "type": "string"
            }
          },
          "metadata": {}
        },
        {
          "output_type": "display_data",
          "data": {
            "text/plain": [
              "'target: Upper Threshold : 1.0 Top 5 values --> [7, 7, 7, 7, 7]'"
            ],
            "application/vnd.google.colaboratory.intrinsic+json": {
              "type": "string"
            }
          },
          "metadata": {}
        },
        {
          "output_type": "display_data",
          "data": {
            "text/plain": [
              "'target: Lower Threshold : 1.0 Bottom 5 values --> [1, 1, 1, 1, 1]'"
            ],
            "application/vnd.google.colaboratory.intrinsic+json": {
              "type": "string"
            }
          },
          "metadata": {}
        }
      ]
    },
    {
      "cell_type": "code",
      "source": [
        "df.describe()"
      ],
      "metadata": {
        "colab": {
          "base_uri": "https://localhost:8080/",
          "height": 364
        },
        "id": "wjK72fgWgzEQ",
        "outputId": "8d11fd97-21b2-47cd-b9fa-57b8bf91aef6"
      },
      "execution_count": 62,
      "outputs": [
        {
          "output_type": "execute_result",
          "data": {
            "text/plain": [
              "               time      feature1      feature2      feature3      feature4  \\\n",
              "count  43500.000000  43500.000000  43500.000000  43500.000000  43500.000000   \n",
              "mean      48.249747     -0.205126     85.341563      0.262736     34.528782   \n",
              "std       12.252618     78.142770      8.908602     41.004131     21.703409   \n",
              "min       27.000000  -4821.000000     21.000000  -3939.000000   -188.000000   \n",
              "25%       38.000000      0.000000     79.000000      0.000000     26.000000   \n",
              "50%       45.000000      0.000000     83.000000      0.000000     42.000000   \n",
              "75%       55.000000      0.000000     89.000000      0.000000     46.000000   \n",
              "max      126.000000   5075.000000    149.000000   3830.000000    436.000000   \n",
              "\n",
              "           feature5      feature6      feature7      feature8        target  \n",
              "count  43500.000000  43500.000000  43500.000000  43500.000000  43500.000000  \n",
              "mean       1.298276     37.074552     50.899862     13.964598      1.700529  \n",
              "std      179.486760     13.135557     21.463250     25.648404      1.354648  \n",
              "min   -13839.000000    -48.000000   -353.000000   -356.000000      1.000000  \n",
              "25%       -5.000000     31.000000     37.000000      0.000000      1.000000  \n",
              "50%        0.000000     39.000000     44.000000      2.000000      1.000000  \n",
              "75%        5.000000     42.000000     60.000000     14.000000      1.000000  \n",
              "max    13148.000000    105.000000    270.000000    266.000000      7.000000  "
            ],
            "text/html": [
              "\n",
              "  <div id=\"df-910d0a4b-987a-4cde-ab35-280479cb41a8\">\n",
              "    <div class=\"colab-df-container\">\n",
              "      <div>\n",
              "<style scoped>\n",
              "    .dataframe tbody tr th:only-of-type {\n",
              "        vertical-align: middle;\n",
              "    }\n",
              "\n",
              "    .dataframe tbody tr th {\n",
              "        vertical-align: top;\n",
              "    }\n",
              "\n",
              "    .dataframe thead th {\n",
              "        text-align: right;\n",
              "    }\n",
              "</style>\n",
              "<table border=\"1\" class=\"dataframe\">\n",
              "  <thead>\n",
              "    <tr style=\"text-align: right;\">\n",
              "      <th></th>\n",
              "      <th>time</th>\n",
              "      <th>feature1</th>\n",
              "      <th>feature2</th>\n",
              "      <th>feature3</th>\n",
              "      <th>feature4</th>\n",
              "      <th>feature5</th>\n",
              "      <th>feature6</th>\n",
              "      <th>feature7</th>\n",
              "      <th>feature8</th>\n",
              "      <th>target</th>\n",
              "    </tr>\n",
              "  </thead>\n",
              "  <tbody>\n",
              "    <tr>\n",
              "      <th>count</th>\n",
              "      <td>43500.000000</td>\n",
              "      <td>43500.000000</td>\n",
              "      <td>43500.000000</td>\n",
              "      <td>43500.000000</td>\n",
              "      <td>43500.000000</td>\n",
              "      <td>43500.000000</td>\n",
              "      <td>43500.000000</td>\n",
              "      <td>43500.000000</td>\n",
              "      <td>43500.000000</td>\n",
              "      <td>43500.000000</td>\n",
              "    </tr>\n",
              "    <tr>\n",
              "      <th>mean</th>\n",
              "      <td>48.249747</td>\n",
              "      <td>-0.205126</td>\n",
              "      <td>85.341563</td>\n",
              "      <td>0.262736</td>\n",
              "      <td>34.528782</td>\n",
              "      <td>1.298276</td>\n",
              "      <td>37.074552</td>\n",
              "      <td>50.899862</td>\n",
              "      <td>13.964598</td>\n",
              "      <td>1.700529</td>\n",
              "    </tr>\n",
              "    <tr>\n",
              "      <th>std</th>\n",
              "      <td>12.252618</td>\n",
              "      <td>78.142770</td>\n",
              "      <td>8.908602</td>\n",
              "      <td>41.004131</td>\n",
              "      <td>21.703409</td>\n",
              "      <td>179.486760</td>\n",
              "      <td>13.135557</td>\n",
              "      <td>21.463250</td>\n",
              "      <td>25.648404</td>\n",
              "      <td>1.354648</td>\n",
              "    </tr>\n",
              "    <tr>\n",
              "      <th>min</th>\n",
              "      <td>27.000000</td>\n",
              "      <td>-4821.000000</td>\n",
              "      <td>21.000000</td>\n",
              "      <td>-3939.000000</td>\n",
              "      <td>-188.000000</td>\n",
              "      <td>-13839.000000</td>\n",
              "      <td>-48.000000</td>\n",
              "      <td>-353.000000</td>\n",
              "      <td>-356.000000</td>\n",
              "      <td>1.000000</td>\n",
              "    </tr>\n",
              "    <tr>\n",
              "      <th>25%</th>\n",
              "      <td>38.000000</td>\n",
              "      <td>0.000000</td>\n",
              "      <td>79.000000</td>\n",
              "      <td>0.000000</td>\n",
              "      <td>26.000000</td>\n",
              "      <td>-5.000000</td>\n",
              "      <td>31.000000</td>\n",
              "      <td>37.000000</td>\n",
              "      <td>0.000000</td>\n",
              "      <td>1.000000</td>\n",
              "    </tr>\n",
              "    <tr>\n",
              "      <th>50%</th>\n",
              "      <td>45.000000</td>\n",
              "      <td>0.000000</td>\n",
              "      <td>83.000000</td>\n",
              "      <td>0.000000</td>\n",
              "      <td>42.000000</td>\n",
              "      <td>0.000000</td>\n",
              "      <td>39.000000</td>\n",
              "      <td>44.000000</td>\n",
              "      <td>2.000000</td>\n",
              "      <td>1.000000</td>\n",
              "    </tr>\n",
              "    <tr>\n",
              "      <th>75%</th>\n",
              "      <td>55.000000</td>\n",
              "      <td>0.000000</td>\n",
              "      <td>89.000000</td>\n",
              "      <td>0.000000</td>\n",
              "      <td>46.000000</td>\n",
              "      <td>5.000000</td>\n",
              "      <td>42.000000</td>\n",
              "      <td>60.000000</td>\n",
              "      <td>14.000000</td>\n",
              "      <td>1.000000</td>\n",
              "    </tr>\n",
              "    <tr>\n",
              "      <th>max</th>\n",
              "      <td>126.000000</td>\n",
              "      <td>5075.000000</td>\n",
              "      <td>149.000000</td>\n",
              "      <td>3830.000000</td>\n",
              "      <td>436.000000</td>\n",
              "      <td>13148.000000</td>\n",
              "      <td>105.000000</td>\n",
              "      <td>270.000000</td>\n",
              "      <td>266.000000</td>\n",
              "      <td>7.000000</td>\n",
              "    </tr>\n",
              "  </tbody>\n",
              "</table>\n",
              "</div>\n",
              "      <button class=\"colab-df-convert\" onclick=\"convertToInteractive('df-910d0a4b-987a-4cde-ab35-280479cb41a8')\"\n",
              "              title=\"Convert this dataframe to an interactive table.\"\n",
              "              style=\"display:none;\">\n",
              "        \n",
              "  <svg xmlns=\"http://www.w3.org/2000/svg\" height=\"24px\"viewBox=\"0 0 24 24\"\n",
              "       width=\"24px\">\n",
              "    <path d=\"M0 0h24v24H0V0z\" fill=\"none\"/>\n",
              "    <path d=\"M18.56 5.44l.94 2.06.94-2.06 2.06-.94-2.06-.94-.94-2.06-.94 2.06-2.06.94zm-11 1L8.5 8.5l.94-2.06 2.06-.94-2.06-.94L8.5 2.5l-.94 2.06-2.06.94zm10 10l.94 2.06.94-2.06 2.06-.94-2.06-.94-.94-2.06-.94 2.06-2.06.94z\"/><path d=\"M17.41 7.96l-1.37-1.37c-.4-.4-.92-.59-1.43-.59-.52 0-1.04.2-1.43.59L10.3 9.45l-7.72 7.72c-.78.78-.78 2.05 0 2.83L4 21.41c.39.39.9.59 1.41.59.51 0 1.02-.2 1.41-.59l7.78-7.78 2.81-2.81c.8-.78.8-2.07 0-2.86zM5.41 20L4 18.59l7.72-7.72 1.47 1.35L5.41 20z\"/>\n",
              "  </svg>\n",
              "      </button>\n",
              "      \n",
              "  <style>\n",
              "    .colab-df-container {\n",
              "      display:flex;\n",
              "      flex-wrap:wrap;\n",
              "      gap: 12px;\n",
              "    }\n",
              "\n",
              "    .colab-df-convert {\n",
              "      background-color: #E8F0FE;\n",
              "      border: none;\n",
              "      border-radius: 50%;\n",
              "      cursor: pointer;\n",
              "      display: none;\n",
              "      fill: #1967D2;\n",
              "      height: 32px;\n",
              "      padding: 0 0 0 0;\n",
              "      width: 32px;\n",
              "    }\n",
              "\n",
              "    .colab-df-convert:hover {\n",
              "      background-color: #E2EBFA;\n",
              "      box-shadow: 0px 1px 2px rgba(60, 64, 67, 0.3), 0px 1px 3px 1px rgba(60, 64, 67, 0.15);\n",
              "      fill: #174EA6;\n",
              "    }\n",
              "\n",
              "    [theme=dark] .colab-df-convert {\n",
              "      background-color: #3B4455;\n",
              "      fill: #D2E3FC;\n",
              "    }\n",
              "\n",
              "    [theme=dark] .colab-df-convert:hover {\n",
              "      background-color: #434B5C;\n",
              "      box-shadow: 0px 1px 3px 1px rgba(0, 0, 0, 0.15);\n",
              "      filter: drop-shadow(0px 1px 2px rgba(0, 0, 0, 0.3));\n",
              "      fill: #FFFFFF;\n",
              "    }\n",
              "  </style>\n",
              "\n",
              "      <script>\n",
              "        const buttonEl =\n",
              "          document.querySelector('#df-910d0a4b-987a-4cde-ab35-280479cb41a8 button.colab-df-convert');\n",
              "        buttonEl.style.display =\n",
              "          google.colab.kernel.accessAllowed ? 'block' : 'none';\n",
              "\n",
              "        async function convertToInteractive(key) {\n",
              "          const element = document.querySelector('#df-910d0a4b-987a-4cde-ab35-280479cb41a8');\n",
              "          const dataTable =\n",
              "            await google.colab.kernel.invokeFunction('convertToInteractive',\n",
              "                                                     [key], {});\n",
              "          if (!dataTable) return;\n",
              "\n",
              "          const docLinkHtml = 'Like what you see? Visit the ' +\n",
              "            '<a target=\"_blank\" href=https://colab.research.google.com/notebooks/data_table.ipynb>data table notebook</a>'\n",
              "            + ' to learn more about interactive tables.';\n",
              "          element.innerHTML = '';\n",
              "          dataTable['output_type'] = 'display_data';\n",
              "          await google.colab.output.renderOutput(dataTable, element);\n",
              "          const docLink = document.createElement('div');\n",
              "          docLink.innerHTML = docLinkHtml;\n",
              "          element.appendChild(docLink);\n",
              "        }\n",
              "      </script>\n",
              "    </div>\n",
              "  </div>\n",
              "  "
            ]
          },
          "metadata": {},
          "execution_count": 62
        }
      ]
    },
    {
      "cell_type": "code",
      "source": [
        "df.corr()"
      ],
      "metadata": {
        "colab": {
          "base_uri": "https://localhost:8080/",
          "height": 363
        },
        "id": "Mx2IiRvyg9WE",
        "outputId": "cfc9d602-86c6-4b40-93b3-ab3dfe0c2fd2"
      },
      "execution_count": 63,
      "outputs": [
        {
          "output_type": "execute_result",
          "data": {
            "text/plain": [
              "              time  feature1  feature2  feature3  feature4  feature5  \\\n",
              "time      1.000000  0.066365  0.262622 -0.007774 -0.051460  0.007306   \n",
              "feature1  0.066365  1.000000 -0.013422 -0.001609  0.000373 -0.001826   \n",
              "feature2  0.262622 -0.013422  1.000000  0.042157  0.255181 -0.002909   \n",
              "feature3 -0.007774 -0.001609  0.042157  1.000000 -0.004767  0.008286   \n",
              "feature4 -0.051460  0.000373  0.255181 -0.004767  1.000000  0.103159   \n",
              "feature5  0.007306 -0.001826 -0.002909  0.008286  0.103159  1.000000   \n",
              "feature6 -0.757307 -0.070628  0.430019  0.036169  0.221277 -0.008569   \n",
              "feature7  0.168417 -0.005827  0.155282  0.022352 -0.914963 -0.105569   \n",
              "feature8  0.526896  0.031235 -0.091279  0.000410 -0.875212 -0.083378   \n",
              "target    0.737641 -0.003978  0.145267 -0.003180 -0.430602  0.000707   \n",
              "\n",
              "          feature6  feature7  feature8    target  \n",
              "time     -0.757307  0.168417  0.526896  0.737641  \n",
              "feature1 -0.070628 -0.005827  0.031235 -0.003978  \n",
              "feature2  0.430019  0.155282 -0.091279  0.145267  \n",
              "feature3  0.036169  0.022352  0.000410 -0.003180  \n",
              "feature4  0.221277 -0.914963 -0.875212 -0.430602  \n",
              "feature5 -0.008569 -0.105569 -0.083378  0.000707  \n",
              "feature6  1.000000 -0.053010 -0.555205 -0.593932  \n",
              "feature7 -0.053010  1.000000  0.859527  0.505146  \n",
              "feature8 -0.555205  0.859527  1.000000  0.722647  \n",
              "target   -0.593932  0.505146  0.722647  1.000000  "
            ],
            "text/html": [
              "\n",
              "  <div id=\"df-84f87e4d-b804-41ad-b3bb-735a86f5b492\">\n",
              "    <div class=\"colab-df-container\">\n",
              "      <div>\n",
              "<style scoped>\n",
              "    .dataframe tbody tr th:only-of-type {\n",
              "        vertical-align: middle;\n",
              "    }\n",
              "\n",
              "    .dataframe tbody tr th {\n",
              "        vertical-align: top;\n",
              "    }\n",
              "\n",
              "    .dataframe thead th {\n",
              "        text-align: right;\n",
              "    }\n",
              "</style>\n",
              "<table border=\"1\" class=\"dataframe\">\n",
              "  <thead>\n",
              "    <tr style=\"text-align: right;\">\n",
              "      <th></th>\n",
              "      <th>time</th>\n",
              "      <th>feature1</th>\n",
              "      <th>feature2</th>\n",
              "      <th>feature3</th>\n",
              "      <th>feature4</th>\n",
              "      <th>feature5</th>\n",
              "      <th>feature6</th>\n",
              "      <th>feature7</th>\n",
              "      <th>feature8</th>\n",
              "      <th>target</th>\n",
              "    </tr>\n",
              "  </thead>\n",
              "  <tbody>\n",
              "    <tr>\n",
              "      <th>time</th>\n",
              "      <td>1.000000</td>\n",
              "      <td>0.066365</td>\n",
              "      <td>0.262622</td>\n",
              "      <td>-0.007774</td>\n",
              "      <td>-0.051460</td>\n",
              "      <td>0.007306</td>\n",
              "      <td>-0.757307</td>\n",
              "      <td>0.168417</td>\n",
              "      <td>0.526896</td>\n",
              "      <td>0.737641</td>\n",
              "    </tr>\n",
              "    <tr>\n",
              "      <th>feature1</th>\n",
              "      <td>0.066365</td>\n",
              "      <td>1.000000</td>\n",
              "      <td>-0.013422</td>\n",
              "      <td>-0.001609</td>\n",
              "      <td>0.000373</td>\n",
              "      <td>-0.001826</td>\n",
              "      <td>-0.070628</td>\n",
              "      <td>-0.005827</td>\n",
              "      <td>0.031235</td>\n",
              "      <td>-0.003978</td>\n",
              "    </tr>\n",
              "    <tr>\n",
              "      <th>feature2</th>\n",
              "      <td>0.262622</td>\n",
              "      <td>-0.013422</td>\n",
              "      <td>1.000000</td>\n",
              "      <td>0.042157</td>\n",
              "      <td>0.255181</td>\n",
              "      <td>-0.002909</td>\n",
              "      <td>0.430019</td>\n",
              "      <td>0.155282</td>\n",
              "      <td>-0.091279</td>\n",
              "      <td>0.145267</td>\n",
              "    </tr>\n",
              "    <tr>\n",
              "      <th>feature3</th>\n",
              "      <td>-0.007774</td>\n",
              "      <td>-0.001609</td>\n",
              "      <td>0.042157</td>\n",
              "      <td>1.000000</td>\n",
              "      <td>-0.004767</td>\n",
              "      <td>0.008286</td>\n",
              "      <td>0.036169</td>\n",
              "      <td>0.022352</td>\n",
              "      <td>0.000410</td>\n",
              "      <td>-0.003180</td>\n",
              "    </tr>\n",
              "    <tr>\n",
              "      <th>feature4</th>\n",
              "      <td>-0.051460</td>\n",
              "      <td>0.000373</td>\n",
              "      <td>0.255181</td>\n",
              "      <td>-0.004767</td>\n",
              "      <td>1.000000</td>\n",
              "      <td>0.103159</td>\n",
              "      <td>0.221277</td>\n",
              "      <td>-0.914963</td>\n",
              "      <td>-0.875212</td>\n",
              "      <td>-0.430602</td>\n",
              "    </tr>\n",
              "    <tr>\n",
              "      <th>feature5</th>\n",
              "      <td>0.007306</td>\n",
              "      <td>-0.001826</td>\n",
              "      <td>-0.002909</td>\n",
              "      <td>0.008286</td>\n",
              "      <td>0.103159</td>\n",
              "      <td>1.000000</td>\n",
              "      <td>-0.008569</td>\n",
              "      <td>-0.105569</td>\n",
              "      <td>-0.083378</td>\n",
              "      <td>0.000707</td>\n",
              "    </tr>\n",
              "    <tr>\n",
              "      <th>feature6</th>\n",
              "      <td>-0.757307</td>\n",
              "      <td>-0.070628</td>\n",
              "      <td>0.430019</td>\n",
              "      <td>0.036169</td>\n",
              "      <td>0.221277</td>\n",
              "      <td>-0.008569</td>\n",
              "      <td>1.000000</td>\n",
              "      <td>-0.053010</td>\n",
              "      <td>-0.555205</td>\n",
              "      <td>-0.593932</td>\n",
              "    </tr>\n",
              "    <tr>\n",
              "      <th>feature7</th>\n",
              "      <td>0.168417</td>\n",
              "      <td>-0.005827</td>\n",
              "      <td>0.155282</td>\n",
              "      <td>0.022352</td>\n",
              "      <td>-0.914963</td>\n",
              "      <td>-0.105569</td>\n",
              "      <td>-0.053010</td>\n",
              "      <td>1.000000</td>\n",
              "      <td>0.859527</td>\n",
              "      <td>0.505146</td>\n",
              "    </tr>\n",
              "    <tr>\n",
              "      <th>feature8</th>\n",
              "      <td>0.526896</td>\n",
              "      <td>0.031235</td>\n",
              "      <td>-0.091279</td>\n",
              "      <td>0.000410</td>\n",
              "      <td>-0.875212</td>\n",
              "      <td>-0.083378</td>\n",
              "      <td>-0.555205</td>\n",
              "      <td>0.859527</td>\n",
              "      <td>1.000000</td>\n",
              "      <td>0.722647</td>\n",
              "    </tr>\n",
              "    <tr>\n",
              "      <th>target</th>\n",
              "      <td>0.737641</td>\n",
              "      <td>-0.003978</td>\n",
              "      <td>0.145267</td>\n",
              "      <td>-0.003180</td>\n",
              "      <td>-0.430602</td>\n",
              "      <td>0.000707</td>\n",
              "      <td>-0.593932</td>\n",
              "      <td>0.505146</td>\n",
              "      <td>0.722647</td>\n",
              "      <td>1.000000</td>\n",
              "    </tr>\n",
              "  </tbody>\n",
              "</table>\n",
              "</div>\n",
              "      <button class=\"colab-df-convert\" onclick=\"convertToInteractive('df-84f87e4d-b804-41ad-b3bb-735a86f5b492')\"\n",
              "              title=\"Convert this dataframe to an interactive table.\"\n",
              "              style=\"display:none;\">\n",
              "        \n",
              "  <svg xmlns=\"http://www.w3.org/2000/svg\" height=\"24px\"viewBox=\"0 0 24 24\"\n",
              "       width=\"24px\">\n",
              "    <path d=\"M0 0h24v24H0V0z\" fill=\"none\"/>\n",
              "    <path d=\"M18.56 5.44l.94 2.06.94-2.06 2.06-.94-2.06-.94-.94-2.06-.94 2.06-2.06.94zm-11 1L8.5 8.5l.94-2.06 2.06-.94-2.06-.94L8.5 2.5l-.94 2.06-2.06.94zm10 10l.94 2.06.94-2.06 2.06-.94-2.06-.94-.94-2.06-.94 2.06-2.06.94z\"/><path d=\"M17.41 7.96l-1.37-1.37c-.4-.4-.92-.59-1.43-.59-.52 0-1.04.2-1.43.59L10.3 9.45l-7.72 7.72c-.78.78-.78 2.05 0 2.83L4 21.41c.39.39.9.59 1.41.59.51 0 1.02-.2 1.41-.59l7.78-7.78 2.81-2.81c.8-.78.8-2.07 0-2.86zM5.41 20L4 18.59l7.72-7.72 1.47 1.35L5.41 20z\"/>\n",
              "  </svg>\n",
              "      </button>\n",
              "      \n",
              "  <style>\n",
              "    .colab-df-container {\n",
              "      display:flex;\n",
              "      flex-wrap:wrap;\n",
              "      gap: 12px;\n",
              "    }\n",
              "\n",
              "    .colab-df-convert {\n",
              "      background-color: #E8F0FE;\n",
              "      border: none;\n",
              "      border-radius: 50%;\n",
              "      cursor: pointer;\n",
              "      display: none;\n",
              "      fill: #1967D2;\n",
              "      height: 32px;\n",
              "      padding: 0 0 0 0;\n",
              "      width: 32px;\n",
              "    }\n",
              "\n",
              "    .colab-df-convert:hover {\n",
              "      background-color: #E2EBFA;\n",
              "      box-shadow: 0px 1px 2px rgba(60, 64, 67, 0.3), 0px 1px 3px 1px rgba(60, 64, 67, 0.15);\n",
              "      fill: #174EA6;\n",
              "    }\n",
              "\n",
              "    [theme=dark] .colab-df-convert {\n",
              "      background-color: #3B4455;\n",
              "      fill: #D2E3FC;\n",
              "    }\n",
              "\n",
              "    [theme=dark] .colab-df-convert:hover {\n",
              "      background-color: #434B5C;\n",
              "      box-shadow: 0px 1px 3px 1px rgba(0, 0, 0, 0.15);\n",
              "      filter: drop-shadow(0px 1px 2px rgba(0, 0, 0, 0.3));\n",
              "      fill: #FFFFFF;\n",
              "    }\n",
              "  </style>\n",
              "\n",
              "      <script>\n",
              "        const buttonEl =\n",
              "          document.querySelector('#df-84f87e4d-b804-41ad-b3bb-735a86f5b492 button.colab-df-convert');\n",
              "        buttonEl.style.display =\n",
              "          google.colab.kernel.accessAllowed ? 'block' : 'none';\n",
              "\n",
              "        async function convertToInteractive(key) {\n",
              "          const element = document.querySelector('#df-84f87e4d-b804-41ad-b3bb-735a86f5b492');\n",
              "          const dataTable =\n",
              "            await google.colab.kernel.invokeFunction('convertToInteractive',\n",
              "                                                     [key], {});\n",
              "          if (!dataTable) return;\n",
              "\n",
              "          const docLinkHtml = 'Like what you see? Visit the ' +\n",
              "            '<a target=\"_blank\" href=https://colab.research.google.com/notebooks/data_table.ipynb>data table notebook</a>'\n",
              "            + ' to learn more about interactive tables.';\n",
              "          element.innerHTML = '';\n",
              "          dataTable['output_type'] = 'display_data';\n",
              "          await google.colab.output.renderOutput(dataTable, element);\n",
              "          const docLink = document.createElement('div');\n",
              "          docLink.innerHTML = docLinkHtml;\n",
              "          element.appendChild(docLink);\n",
              "        }\n",
              "      </script>\n",
              "    </div>\n",
              "  </div>\n",
              "  "
            ]
          },
          "metadata": {},
          "execution_count": 63
        }
      ]
    },
    {
      "cell_type": "markdown",
      "source": [
        "I feel the target value has to be plotted to see if the data is imbalanced!"
      ],
      "metadata": {
        "id": "vBMItKikhwkK"
      }
    },
    {
      "cell_type": "code",
      "source": [
        "target_count = df.target.value_counts()\n",
        "print(target_count)\n",
        "target_count.plot(kind='bar', title='Count (target)')"
      ],
      "metadata": {
        "colab": {
          "base_uri": "https://localhost:8080/",
          "height": 440
        },
        "id": "RBlpwCjch6qp",
        "outputId": "0239f12a-0817-48e7-dc4a-6d8009530b2b"
      },
      "execution_count": 64,
      "outputs": [
        {
          "output_type": "stream",
          "name": "stdout",
          "text": [
            "1    34108\n",
            "4     6748\n",
            "5     2458\n",
            "3      132\n",
            "2       37\n",
            "7       11\n",
            "6        6\n",
            "Name: target, dtype: int64\n"
          ]
        },
        {
          "output_type": "execute_result",
          "data": {
            "text/plain": [
              "<matplotlib.axes._subplots.AxesSubplot at 0x7f563934e250>"
            ]
          },
          "metadata": {},
          "execution_count": 64
        },
        {
          "output_type": "display_data",
          "data": {
            "text/plain": [
              "<Figure size 432x288 with 1 Axes>"
            ],
            "image/png": "[encoded data removed]"
          },
          "metadata": {
            "needs_background": "light"
          }
        }
      ]
    },
    {
      "cell_type": "code",
      "source": [
        "from imblearn.combine import SMOTEENN\n",
        "smt = SMOTEENN(sampling_strategy='all')\n",
        "X_smt, y_smt = smt.fit_resample(X, y)\n",
        "X_smt.shape"
      ],
      "metadata": {
        "colab": {
          "base_uri": "https://localhost:8080/"
        },
        "id": "WDbzGz5pklpO",
        "outputId": "55675ad4-86c2-42af-c61f-9abb7228ce4e"
      },
      "execution_count": 67,
      "outputs": [
        {
          "output_type": "execute_result",
          "data": {
            "text/plain": [
              "(238549, 9)"
            ]
          },
          "metadata": {},
          "execution_count": 67
        }
      ]
    },
    {
      "cell_type": "code",
      "source": [
        "df_smt = pd.DataFrame(X_smt)\n",
        "df_smt['target'] = y_smt"
      ],
      "metadata": {
        "id": "tmXyzEqolV6U"
      },
      "execution_count": 68,
      "outputs": []
    },
    {
      "cell_type": "code",
      "source": [
        "target_count = df_smt.target.value_counts()\n",
        "print(target_count)\n",
        "target_count.plot(kind='bar', title='Count (target)')"
      ],
      "metadata": {
        "colab": {
          "base_uri": "https://localhost:8080/",
          "height": 440
        },
        "id": "kUcfMfQqlVur",
        "outputId": "fdd1cc1b-0b49-413f-9a38-95ecddb8411a"
      },
      "execution_count": 69,
      "outputs": [
        {
          "output_type": "stream",
          "name": "stdout",
          "text": [
            "2    34108\n",
            "3    34108\n",
            "6    34108\n",
            "7    34108\n",
            "4    34068\n",
            "5    34050\n",
            "1    33999\n",
            "Name: target, dtype: int64\n"
          ]
        },
        {
          "output_type": "execute_result",
          "data": {
            "text/plain": [
              "<matplotlib.axes._subplots.AxesSubplot at 0x7f5637c00a60>"
            ]
          },
          "metadata": {},
          "execution_count": 69
        },
        {
          "output_type": "display_data",
          "data": {
            "text/plain": [
              "<Figure size 432x288 with 1 Axes>"
            ],
            "image/png": "[encoded data removed]"
          },
          "metadata": {
            "needs_background": "light"
          }
        }
      ]
    },
    {
      "cell_type": "code",
      "source": [
        "from sklearn.model_selection import train_test_split \n",
        "X_train,X_test,y_train,y_test = train_test_split(X_smt,y_smt,test_size=0.30)"
      ],
      "metadata": {
        "id": "DZffjXaImR-H"
      },
      "execution_count": 71,
      "outputs": []
    },
    {
      "cell_type": "code",
      "source": [
        "X_train.shape\n"
      ],
      "metadata": {
        "colab": {
          "base_uri": "https://localhost:8080/"
        },
        "id": "_oSHCkG1nKkH",
        "outputId": "9ce5b8a9-bba3-418c-af38-8784d83dc368"
      },
      "execution_count": 74,
      "outputs": [
        {
          "output_type": "execute_result",
          "data": {
            "text/plain": [
              "(166984, 10)"
            ]
          },
          "metadata": {},
          "execution_count": 74
        }
      ]
    },
    {
      "cell_type": "code",
      "source": [
        "from sklearn.preprocessing import StandardScaler\n",
        "scaler = StandardScaler() #initialis\n",
        "scaler.fit(X_train) # find the values of mu and sigma\n",
        "X_train = scaler.transform(X_train)\n",
        "X_test = scaler.transform(X_test) #only transform the test dataset, dont fit it"
      ],
      "metadata": {
        "id": "nn9k98avmE3U"
      },
      "execution_count": 72,
      "outputs": []
    },
    {
      "cell_type": "code",
      "source": [
        "from sklearn.linear_model import LogisticRegression\n",
        "from sklearn.metrics import roc_auc_score\n",
        "\n",
        "logistic_regression = LogisticRegression()\n",
        "logistic_regression.fit(X_train, y_train)\n",
        "\n",
        "\n",
        "y_pred = logistic_regression.predict(X_test)"
      ],
      "metadata": {
        "colab": {
          "base_uri": "https://localhost:8080/"
        },
        "id": "Hk2Zj4wEl0bI",
        "outputId": "34aa1273-7fa7-4807-b4cc-23bb81811272"
      },
      "execution_count": 79,
      "outputs": [
        {
          "output_type": "stream",
          "name": "stderr",
          "text": [
            "/usr/local/lib/python3.8/dist-packages/sklearn/utils/validation.py:993: DataConversionWarning: A column-vector y was passed when a 1d array was expected. Please change the shape of y to (n_samples, ), for example using ravel().\n",
            "  y = column_or_1d(y, warn=True)\n",
            "/usr/local/lib/python3.8/dist-packages/sklearn/linear_model/_logistic.py:814: ConvergenceWarning: lbfgs failed to converge (status=1):\n",
            "STOP: TOTAL NO. of ITERATIONS REACHED LIMIT.\n",
            "\n",
            "Increase the number of iterations (max_iter) or scale the data as shown in:\n",
            "    https://scikit-learn.org/stable/modules/preprocessing.html\n",
            "Please also refer to the documentation for alternative solver options:\n",
            "    https://scikit-learn.org/stable/modules/linear_model.html#logistic-regression\n",
            "  n_iter_i = _check_optimize_result(\n",
            "/usr/local/lib/python3.8/dist-packages/sklearn/base.py:443: UserWarning: X has feature names, but LogisticRegression was fitted without feature names\n",
            "  warnings.warn(\n"
          ]
        }
      ]
    },
    {
      "cell_type": "code",
      "source": [
        "from sklearn.metrics import accuracy_score, plot_roc_curve, roc_curve, roc_auc_score, confusion_matrix, f1_score\n",
        "print('Accuracy',logistic_regression.score(X_test,y_test)) # accuracy\n",
        "#print(confusion_matrix(y_test,y_pred))\n",
        "#f1_score(y_test,y_pred)\n",
        "#logistic_regression.score(X_test,y_test)\n",
        "#plot_roc_curve(logistic_regression, X_test, y_test)\n",
        "#accuracy_score(y_test,y_pred)"
      ],
      "metadata": {
        "colab": {
          "base_uri": "https://localhost:8080/"
        },
        "id": "QyWmsLn0ocJH",
        "outputId": "8d14f363-ee03-449e-a04a-8b2ced0a9bc8"
      },
      "execution_count": 83,
      "outputs": [
        {
          "output_type": "stream",
          "name": "stdout",
          "text": [
            "Accuracy 0.9999580800670719\n"
          ]
        }
      ]
    },
    {
      "cell_type": "markdown",
      "source": [
        "Approximately 80% of the data belongs to class 1. Therefore the default accuracy is about 80%. The aim here is to obtain an accuracy of 99 - 99.9%."
      ],
      "metadata": {
        "id": "B3PS28BGpK-k"
      }
    }
  ]
}